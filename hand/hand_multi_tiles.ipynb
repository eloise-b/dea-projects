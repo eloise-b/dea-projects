{
 "cells": [
  {
   "cell_type": "markdown",
   "metadata": {},
   "source": [
    "# Test HAND processing and stitching"
   ]
  },
  {
   "cell_type": "markdown",
   "metadata": {},
   "source": [
    "# Import modules and load DEM from datacube"
   ]
  },
  {
   "cell_type": "code",
   "execution_count": 1,
   "metadata": {},
   "outputs": [],
   "source": [
    "%matplotlib inline\n",
    "\n",
    "import numpy as np\n",
    "import matplotlib.pyplot as plt\n",
    "import matplotlib.colors as colors\n",
    "from pysheds.grid import Grid\n",
    "\n",
    "import pyproj\n",
    "from affine import Affine\n",
    "import xarray as xr\n",
    "import os\n",
    "import geopandas as gpd\n",
    "from shapely.geometry import Point, Polygon\n",
    "import rasterio\n",
    "\n",
    "import warnings\n",
    "warnings.filterwarnings('ignore')"
   ]
  },
  {
   "cell_type": "code",
   "execution_count": 2,
   "metadata": {},
   "outputs": [],
   "source": [
    "from skimage.morphology import watershed\n",
    "from scipy import ndimage"
   ]
  },
  {
   "cell_type": "code",
   "execution_count": 3,
   "metadata": {},
   "outputs": [],
   "source": [
    "import datacube\n",
    "prod_dc = datacube.Datacube()"
   ]
  },
  {
   "cell_type": "code",
   "execution_count": 4,
   "metadata": {},
   "outputs": [],
   "source": [
    "def add_streams(grid, save=False):\n",
    "    streamnetwork = gpd.read_file('geofabric/SH_Network_GDB_National_V3_0_5_Beta_MajorFiltered.shp')\n",
    "    streamnetwork = streamnetwork.to_crs({'init': 'epsg:3577'})\n",
    "    bbox = grid.bbox\n",
    "\n",
    "    p1 = Point(bbox[0], bbox[3])\n",
    "    p2 = Point(bbox[2], bbox[3])\n",
    "    p3 = Point(bbox[2], bbox[1])\n",
    "    p4 = Point(bbox[0], bbox[1])\n",
    "\n",
    "    np1 = (p1.coords.xy[0][0], p1.coords.xy[1][0])\n",
    "    np2 = (p2.coords.xy[0][0], p2.coords.xy[1][0])\n",
    "    np3 = (p3.coords.xy[0][0], p3.coords.xy[1][0])\n",
    "    np4 = (p4.coords.xy[0][0], p4.coords.xy[1][0])\n",
    "\n",
    "    bb_polygon = Polygon([np1, np2, np3, np4])\n",
    "    subset=streamnetwork.intersects(bb_polygon)\n",
    "    \n",
    "    result = rasterio.features.rasterize(streamnetwork[subset].geometry, all_touched=True,\n",
    "                                     out_shape = grid.shape,\n",
    "                                     transform = grid.affine)\n",
    "    if save:\n",
    "        with rasterio.open(\n",
    "            \"streamnetwork.tif\",\n",
    "            'w',\n",
    "            driver='GTiff',\n",
    "            width=grid.shape[1],\n",
    "            height=grid.shape[0],\n",
    "            count=1,\n",
    "            dtype=np.uint8,\n",
    "            nodata=0,\n",
    "            transform=grid.affine,\n",
    "            crs={'init': \"EPSG:3577\"}) as out:\n",
    "                 out.write_band(1, result.astype(np.uint8))\n",
    "            \n",
    "    grid.add_gridded_data(result,'streams')\n",
    "    #return result"
   ]
  },
  {
   "cell_type": "code",
   "execution_count": 5,
   "metadata": {},
   "outputs": [],
   "source": [
    "dirmap=(4, 2, 1, 128, 64, 32, 16, 8)\n",
    "routing='d8'"
   ]
  },
  {
   "cell_type": "code",
   "execution_count": 6,
   "metadata": {},
   "outputs": [],
   "source": [
    "def fix_dem(grid):\n",
    "    depressions = grid.detect_depressions('dem')\n",
    "    n_depression = (depressions).sum()\n",
    "    flats = grid.detect_flats('dem')\n",
    "    n_flat = (flats).sum()\n",
    "    i=0\n",
    "    while n_depression > 0 or n_flat>0:\n",
    "        print(\"fill depressions and resolve flats iter:\", i, n_depression, n_flat)\n",
    "        pre_depression = n_depression\n",
    "        pre_flat = n_flat\n",
    "    \n",
    "        grid.fill_depressions(data='dem', out_name='dem')\n",
    "        grid.resolve_flats('dem', out_name='dem')\n",
    "    \n",
    "        depressions = grid.detect_depressions('dem')\n",
    "        n_depression = (depressions).sum()\n",
    "        flats = grid.detect_flats('dem')\n",
    "        n_flat = (flats).sum()\n",
    "    \n",
    "        if n_depression== pre_depression and n_flat==flat: break\n",
    "        i+=1"
   ]
  },
  {
   "cell_type": "code",
   "execution_count": 7,
   "metadata": {},
   "outputs": [],
   "source": [
    "def hand(dem, acc_thresh=2000, acc=False, dirmap=dirmap, routing=routing):\n",
    "    coords = list(dem.coords.keys())\n",
    "    if 'x' in coords: coord_x, coord_y = 'x', 'y' \n",
    "    else: coord_x, coord_y = 'longitude', 'latitude'\n",
    "    \n",
    "    dem['dem_h'] = dem.dem_h.where(dem.dem_h!=dem.dem_h.attrs['nodata'])\n",
    "    dem['dem_h'] = dem.dem_h.where(dem.dem_h > -1000)\n",
    "    xres = dem[coord_x].values[1]-dem[coord_x].values[0]\n",
    "    yres = dem[coord_y].values[1]-dem[coord_y].values[0]\n",
    "    x_ref = dem[coord_x].values[0]\n",
    "    y_ref = dem[coord_y].values[0]\n",
    "    \n",
    "    grid = Grid(nodata = np.nan, \n",
    "            crs = pyproj.Proj('+init=epsg:%s'%dem.dem_h.attrs['crs'].epsg))\n",
    "    grid.add_gridded_data(dem.dem_h.values.squeeze(),\n",
    "                      data_name = 'dem', affine = Affine(xres, 0, x_ref, 0, yres, y_ref),\n",
    "                      shape = dem.dem_h.values.squeeze().shape, \n",
    "                      nodata = np.nan, \n",
    "                      crs = pyproj.Proj('+init=epsg:%s'%dem.dem_h.attrs['crs'].epsg))\n",
    "    fix_dem(grid)\n",
    "    \n",
    "    if acc:\n",
    "        grid.flowdir(data='dem', out_name='dir',astype=np.float32, dirmap=dirmap, routing=routing)\n",
    "#        add_streams(grid)\n",
    "        grid.accumulation(data='dir', out_name='acc', pad=False, dirmap=dirmap, routing=routing, \n",
    "                          #weights = (grid.streams*100.+1)/101.,\n",
    "                          astype=np.float32)\n",
    "        if not acc_thresh: \n",
    "            acc_thresh = np.nanpercentile(grid.acc, 90)\n",
    "            #print(\"accumulation threshold:\", acc_thresh)\n",
    "            #acc = grid.acc*grid.streams\n",
    "            #acc_thresh = np.nanpercentile(acc[acc>0],1)\n",
    "        print(\"accumulation threshold:\", acc_thresh)\n",
    "        print(\"99 percentile accumulation:\", np.nanpercentile(grid.acc, 99))\n",
    "        dem['acc'] = (coord_y, coord_x), grid.acc.astype(np.float32)\n",
    "        dem['hand'] = (coord_y, coord_x), grid.compute_hand('dir', 'dem', grid.acc > acc_thresh, \n",
    "                                                            dirmap=dirmap, routing=routing, \n",
    "                                                            inplace=False,astype=np.float32)\n",
    "        dem['dir'] = (coord_y, coord_x), grid.dir.astype(np.float32)\n",
    "    else:\n",
    "        add_streams(grid)\n",
    "    \n",
    "        dem['streams'] = (coord_y, coord_x), grid.streams#.astype(np.float32)\n",
    "        markers = (dem.dem_h.where(dem.streams==1,0)).round()\n",
    "        labels = watershed(dem.dem_h.values, markers.values, mask = ~np.isnan(dem.dem_h).values)\n",
    "        dem_min = ndimage.minimum(dem.dem_h.values, labels=labels, index=labels)\n",
    "        dem['hand'] = (coord_y, coord_x), dem.dem_h.values-dem_min\n",
    "        #dem['hand'] = (coord_y, coord_x), grid.compute_hand('dir', 'dem', grid.streams > 0, \n",
    "        #                                                    dirmap=dirmap, routing=routing, \n",
    "        #                                                    inplace=False,astype=np.float32)\n",
    "    \n",
    "    \n"
   ]
  },
  {
   "cell_type": "code",
   "execution_count": 8,
   "metadata": {},
   "outputs": [],
   "source": [
    "# tasmania\n",
    "\n",
    "#tile_list = ['11,-46','11,-47','11,-48','12,-46','12,-47']\n",
    "\n",
    "#tile_list = ['11,-47','12,-47']"
   ]
  },
  {
   "cell_type": "code",
   "execution_count": 9,
   "metadata": {},
   "outputs": [],
   "source": [
    "tsize = 1e5\n",
    "tsize_x = 2\n",
    "tsize_y = 2"
   ]
  },
  {
   "cell_type": "code",
   "execution_count": 10,
   "metadata": {},
   "outputs": [
    {
     "name": "stdout",
     "output_type": "stream",
     "text": [
      "9.0 9\n",
      "['-10,-22', '-10,-20', '-10,-18', '-8,-22', '-8,-20', '-8,-18', '-6,-22', '-6,-20', '-6,-18']\n"
     ]
    }
   ],
   "source": [
    "bbox = (-953243.9623141023, -2146122.18804447, -441593.96231410233, -1700652.18804447)\n",
    "ymin, ymax = np.floor(bbox[1]/tsize), np.ceil(bbox[3]/tsize)\n",
    "xmin, xmax = np.floor(bbox[0]/tsize), np.ceil(bbox[2]/tsize)\n",
    "\n",
    "tile_x =  np.arange(xmin, xmax, tsize_x)\n",
    "tile_y = np.arange(ymin, ymax, tsize_y)\n",
    "tile_list = ['%d,%d'%(x,y) for x in tile_x for y in tile_y]\n",
    "print(np.ceil((ymax-ymin)/tsize_y)*np.ceil((xmax-xmin)/tsize_x), len(tile_list))\n",
    "print(tile_list)"
   ]
  },
  {
   "cell_type": "code",
   "execution_count": 11,
   "metadata": {
    "scrolled": false
   },
   "outputs": [
    {
     "name": "stdout",
     "output_type": "stream",
     "text": [
      "{'y': (-2203000, -1997000.0), 'x': (-1003000, -797000.0), 'crs': 'EPSG:3577', 'output_crs': 'EPSG:3577', 'resolution': (30, 30)}\n",
      "fill depressions and resolve flats iter: 0 7178 44914\n",
      "fill depressions and resolve flats iter: 1 1600 2825\n",
      "fill depressions and resolve flats iter: 2 187 187\n",
      "fill depressions and resolve flats iter: 3 54 124\n",
      "{'y': (-2003000, -1797000.0), 'x': (-1003000, -797000.0), 'crs': 'EPSG:3577', 'output_crs': 'EPSG:3577', 'resolution': (30, 30)}\n",
      "fill depressions and resolve flats iter: 0 14241 57025\n",
      "fill depressions and resolve flats iter: 1 504 661\n",
      "fill depressions and resolve flats iter: 2 269 269\n",
      "fill depressions and resolve flats iter: 3 119 232\n",
      "{'y': (-1803000, -1597000.0), 'x': (-1003000, -797000.0), 'crs': 'EPSG:3577', 'output_crs': 'EPSG:3577', 'resolution': (30, 30)}\n",
      "fill depressions and resolve flats iter: 0 22630 28318\n",
      "fill depressions and resolve flats iter: 1 1382 2819\n",
      "fill depressions and resolve flats iter: 2 64 64\n",
      "fill depressions and resolve flats iter: 3 10 38\n",
      "{'y': (-2203000, -1997000.0), 'x': (-803000, -597000.0), 'crs': 'EPSG:3577', 'output_crs': 'EPSG:3577', 'resolution': (30, 30)}\n",
      "fill depressions and resolve flats iter: 0 8835 57343\n",
      "fill depressions and resolve flats iter: 1 1697 2601\n",
      "fill depressions and resolve flats iter: 2 808 808\n",
      "fill depressions and resolve flats iter: 3 303 685\n",
      "{'y': (-2003000, -1797000.0), 'x': (-803000, -597000.0), 'crs': 'EPSG:3577', 'output_crs': 'EPSG:3577', 'resolution': (30, 30)}\n",
      "fill depressions and resolve flats iter: 0 6055 50349\n",
      "fill depressions and resolve flats iter: 1 468 589\n",
      "fill depressions and resolve flats iter: 2 320 320\n",
      "fill depressions and resolve flats iter: 3 193 260\n",
      "{'y': (-1803000, -1597000.0), 'x': (-803000, -597000.0), 'crs': 'EPSG:3577', 'output_crs': 'EPSG:3577', 'resolution': (30, 30)}\n",
      "fill depressions and resolve flats iter: 0 14992 33511\n",
      "fill depressions and resolve flats iter: 1 375 602\n",
      "fill depressions and resolve flats iter: 2 193 193\n",
      "fill depressions and resolve flats iter: 3 39 169\n",
      "{'y': (-2203000, -1997000.0), 'x': (-603000, -397000.0), 'crs': 'EPSG:3577', 'output_crs': 'EPSG:3577', 'resolution': (30, 30)}\n",
      "fill depressions and resolve flats iter: 0 7475 45729\n",
      "fill depressions and resolve flats iter: 1 1146 2003\n",
      "fill depressions and resolve flats iter: 2 202 202\n",
      "fill depressions and resolve flats iter: 3 74 144\n",
      "{'y': (-2003000, -1797000.0), 'x': (-603000, -397000.0), 'crs': 'EPSG:3577', 'output_crs': 'EPSG:3577', 'resolution': (30, 30)}\n",
      "fill depressions and resolve flats iter: 0 2093 33550\n",
      "fill depressions and resolve flats iter: 1 72 115\n",
      "fill depressions and resolve flats iter: 2 41 41\n",
      "fill depressions and resolve flats iter: 3 7 24\n",
      "{'y': (-1803000, -1597000.0), 'x': (-603000, -397000.0), 'crs': 'EPSG:3577', 'output_crs': 'EPSG:3577', 'resolution': (30, 30)}\n",
      "fill depressions and resolve flats iter: 0 12412 50923\n",
      "fill depressions and resolve flats iter: 1 646 743\n",
      "fill depressions and resolve flats iter: 2 220 220\n",
      "fill depressions and resolve flats iter: 3 38 162\n"
     ]
    }
   ],
   "source": [
    "tilesize = tsize_x*tsize\n",
    "buffersize = 3000\n",
    "\n",
    "#output_crs = 'EPSG:4326'\n",
    "output_crs = 'EPSG:3577'\n",
    "\n",
    "res = {'EPSG:3577':30, 'EPSG:4326':0.0002777777777822571046}\n",
    "\n",
    "#dem = []\n",
    "for tile in tile_list:\n",
    "    outputname = 'hand_watershed/dem_hand_watershed_%s_%s.nc'%(tile.split(',')[0],tile.split(',')[1])\n",
    "    if os.path.exists(outputname):continue\n",
    "    x0, y0 = int(tile.split(',')[0])*100000, int(tile.split(',')[1])*100000\n",
    "    x = (x0-buffersize, x0+tilesize+buffersize)\n",
    "    y = (y0-buffersize, y0+tilesize+buffersize)\n",
    "    x_output = (x0, x0+tilesize)\n",
    "    y_output = (y0, y0+tilesize)\n",
    "    dem_query = { 'y': y , 'x': x, 'crs': 'EPSG:3577', \n",
    "                 'output_crs':output_crs, 'resolution': (res[output_crs], res[output_crs]),\n",
    "                }\n",
    "    print(dem_query)\n",
    "    dem_tile = prod_dc.load(product = 'srtm_dem1sv1_0', measurements=['dem_h'], **dem_query).isel(time=0)\n",
    "    hand(dem_tile)\n",
    "\n",
    "    del dem_tile['time']\n",
    "    dem_tile.attrs['crs']=dem_tile.attrs['crs'].epsg\n",
    "    del dem_tile['dem_h'].attrs['crs'], dem_tile['dem_h'].attrs['nodata']\n",
    "    dem_tile.sel(x=slice(*x_output), y = slice(*y_output)).to_netcdf(outputname)\n",
    "    #dem.append(dem_tile.sel(x=slice(*x_output), y = slice(*y_output)).copy())\n",
    "    #if dem: dem = xr.concat([dem, dem_tile], dim='x')\n",
    "    #else: dem = dem_tile.copy()\n",
    "    del dem_tile\n",
    "    #break"
   ]
  },
  {
   "cell_type": "code",
   "execution_count": 12,
   "metadata": {},
   "outputs": [
    {
     "data": {
      "text/plain": [
       "(3, 3)"
      ]
     },
     "execution_count": 12,
     "metadata": {},
     "output_type": "execute_result"
    }
   ],
   "source": [
    "len(tile_x), len(tile_y)"
   ]
  },
  {
   "cell_type": "raw",
   "metadata": {},
   "source": [
    "dem_m = xr.concat([xr.concat(dem[col*len(tile_y):(col+1)*len(tile_y)], dim='y') for col in range(len(tile_x))], dim='x')"
   ]
  },
  {
   "cell_type": "raw",
   "metadata": {},
   "source": [
    "dem_m.hand.plot(figsize=(16,8));"
   ]
  },
  {
   "cell_type": "code",
   "execution_count": 13,
   "metadata": {},
   "outputs": [],
   "source": [
    "import glob\n",
    "import numpy as np\n",
    "xs =[int(f.split('/')[-1].split('_')[3]) for f in glob.glob('hand_watershed/dem_hand_watershed_*.nc')]\n",
    "xs = list(np.sort(np.unique(xs)))\n",
    "ys =[int(f.split('/')[-1].split('.')[0].split('_')[4]) for f in glob.glob('hand_watershed/dem_hand_watershed_*.nc')]\n",
    "ys = list(np.sort(np.unique(ys)))\n",
    "dem_m = xr.concat([xr.open_mfdataset(glob.glob('hand_watershed/dem_hand_watershed_%d_*.nc'%x)) for x in xs], dim='x')"
   ]
  },
  {
   "cell_type": "code",
   "execution_count": 14,
   "metadata": {},
   "outputs": [
    {
     "data": {
      "text/plain": [
       "<xarray.Dataset>\n",
       "Dimensions:  (x: 20000, y: 20000)\n",
       "Coordinates:\n",
       "  * y        (y) float64 -2.2e+06 -2.2e+06 -2.2e+06 ... -1.6e+06 -1.6e+06\n",
       "  * x        (x) float64 -1e+06 -9.999e+05 -9.999e+05 ... -4e+05 -4e+05\n",
       "Data variables:\n",
       "    dem_h    (y, x) float32 dask.array<shape=(20000, 20000), chunksize=(6666, 6666)>\n",
       "    streams  (y, x) uint8 dask.array<shape=(20000, 20000), chunksize=(6666, 6666)>\n",
       "    hand     (y, x) float32 dask.array<shape=(20000, 20000), chunksize=(6666, 6666)>\n",
       "Attributes:\n",
       "    crs:      3577"
      ]
     },
     "execution_count": 14,
     "metadata": {},
     "output_type": "execute_result"
    }
   ],
   "source": [
    "dem_m"
   ]
  },
  {
   "cell_type": "code",
   "execution_count": 15,
   "metadata": {},
   "outputs": [],
   "source": [
    "dem_m.to_netcdf('hand_watershed/mosaic.nc',compute=True)\n",
    "dem_m.close()"
   ]
  },
  {
   "cell_type": "code",
   "execution_count": 16,
   "metadata": {},
   "outputs": [],
   "source": [
    "from datacube import helpers\n",
    "from datacube.utils import geometry\n",
    "\n",
    "dem = xr.open_dataset('hand_watershed/mosaic.nc')\n",
    "dem.attrs['crs'] = geometry.CRS('epsg:%s'%dem.attrs['crs'])\n",
    "for var in list(dem.data_vars):\n",
    "    ds = dem[var].to_dataset(name=var)\n",
    "    ds.attrs['crs'] = dem.attrs['crs']\n",
    "    helpers.write_geotiff('hand_watershed/mosaic_%s.tif'%var, ds)\n"
   ]
  },
  {
   "cell_type": "code",
   "execution_count": 17,
   "metadata": {},
   "outputs": [
    {
     "name": "stdout",
     "output_type": "stream",
     "text": [
      "dem_hand_watershed_-10_-18.nc  dem_hand_watershed_-6_-22.nc  mosaic_hand.tif\r\n",
      "dem_hand_watershed_-10_-20.nc  dem_hand_watershed_-8_-18.nc  mosaic.nc\r\n",
      "dem_hand_watershed_-10_-22.nc  dem_hand_watershed_-8_-20.nc  mosaic_streams.tif\r\n",
      "dem_hand_watershed_-6_-18.nc   dem_hand_watershed_-8_-22.nc\r\n",
      "dem_hand_watershed_-6_-20.nc   mosaic_dem_h.tif\r\n"
     ]
    }
   ],
   "source": [
    "!ls hand_watershed "
   ]
  },
  {
   "cell_type": "code",
   "execution_count": null,
   "metadata": {},
   "outputs": [],
   "source": []
  }
 ],
 "metadata": {
  "kernelspec": {
   "display_name": "Python 3",
   "language": "python",
   "name": "python3"
  },
  "language_info": {
   "codemirror_mode": {
    "name": "ipython",
    "version": 3
   },
   "file_extension": ".py",
   "mimetype": "text/x-python",
   "name": "python",
   "nbconvert_exporter": "python",
   "pygments_lexer": "ipython3",
   "version": "3.6.7"
  }
 },
 "nbformat": 4,
 "nbformat_minor": 2
}
